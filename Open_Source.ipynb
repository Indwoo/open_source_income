{
 "cells": [
  {
   "cell_type": "code",
   "execution_count": 1,
   "id": "1397e0c8",
   "metadata": {
    "scrolled": false
   },
   "outputs": [
    {
     "data": {
      "text/html": [
       "<div>\n",
       "<style scoped>\n",
       "    .dataframe tbody tr th:only-of-type {\n",
       "        vertical-align: middle;\n",
       "    }\n",
       "\n",
       "    .dataframe tbody tr th {\n",
       "        vertical-align: top;\n",
       "    }\n",
       "\n",
       "    .dataframe thead th {\n",
       "        text-align: right;\n",
       "    }\n",
       "</style>\n",
       "<table border=\"1\" class=\"dataframe\">\n",
       "  <thead>\n",
       "    <tr style=\"text-align: right;\">\n",
       "      <th></th>\n",
       "      <th>id</th>\n",
       "      <th>year</th>\n",
       "      <th>wave</th>\n",
       "      <th>region</th>\n",
       "      <th>income</th>\n",
       "      <th>family_member</th>\n",
       "      <th>gender</th>\n",
       "      <th>year_born</th>\n",
       "      <th>education_level</th>\n",
       "      <th>marriage</th>\n",
       "      <th>religion</th>\n",
       "      <th>occupation</th>\n",
       "      <th>company_size</th>\n",
       "      <th>reason_none_worker</th>\n",
       "    </tr>\n",
       "  </thead>\n",
       "  <tbody>\n",
       "    <tr>\n",
       "      <th>0</th>\n",
       "      <td>10101</td>\n",
       "      <td>2005</td>\n",
       "      <td>1</td>\n",
       "      <td>1</td>\n",
       "      <td>614.0</td>\n",
       "      <td>1</td>\n",
       "      <td>2</td>\n",
       "      <td>1936</td>\n",
       "      <td>2</td>\n",
       "      <td>2</td>\n",
       "      <td>2</td>\n",
       "      <td></td>\n",
       "      <td></td>\n",
       "      <td>8</td>\n",
       "    </tr>\n",
       "    <tr>\n",
       "      <th>1</th>\n",
       "      <td>10101</td>\n",
       "      <td>2011</td>\n",
       "      <td>7</td>\n",
       "      <td>1</td>\n",
       "      <td>896.0</td>\n",
       "      <td>1</td>\n",
       "      <td>2</td>\n",
       "      <td>1936</td>\n",
       "      <td>2</td>\n",
       "      <td>2</td>\n",
       "      <td>2</td>\n",
       "      <td></td>\n",
       "      <td></td>\n",
       "      <td>10</td>\n",
       "    </tr>\n",
       "    <tr>\n",
       "      <th>2</th>\n",
       "      <td>10101</td>\n",
       "      <td>2012</td>\n",
       "      <td>8</td>\n",
       "      <td>1</td>\n",
       "      <td>1310.0</td>\n",
       "      <td>1</td>\n",
       "      <td>2</td>\n",
       "      <td>1936</td>\n",
       "      <td>2</td>\n",
       "      <td>2</td>\n",
       "      <td>2</td>\n",
       "      <td></td>\n",
       "      <td></td>\n",
       "      <td>10</td>\n",
       "    </tr>\n",
       "    <tr>\n",
       "      <th>3</th>\n",
       "      <td>10101</td>\n",
       "      <td>2013</td>\n",
       "      <td>9</td>\n",
       "      <td>1</td>\n",
       "      <td>2208.0</td>\n",
       "      <td>1</td>\n",
       "      <td>2</td>\n",
       "      <td>1936</td>\n",
       "      <td>2</td>\n",
       "      <td>2</td>\n",
       "      <td>2</td>\n",
       "      <td></td>\n",
       "      <td></td>\n",
       "      <td>1</td>\n",
       "    </tr>\n",
       "    <tr>\n",
       "      <th>4</th>\n",
       "      <td>10101</td>\n",
       "      <td>2014</td>\n",
       "      <td>10</td>\n",
       "      <td>1</td>\n",
       "      <td>864.0</td>\n",
       "      <td>1</td>\n",
       "      <td>2</td>\n",
       "      <td>1936</td>\n",
       "      <td>2</td>\n",
       "      <td>2</td>\n",
       "      <td>2</td>\n",
       "      <td></td>\n",
       "      <td></td>\n",
       "      <td>10</td>\n",
       "    </tr>\n",
       "  </tbody>\n",
       "</table>\n",
       "</div>"
      ],
      "text/plain": [
       "      id  year  wave  region  income  family_member  gender  year_born  \\\n",
       "0  10101  2005     1       1   614.0              1       2       1936   \n",
       "1  10101  2011     7       1   896.0              1       2       1936   \n",
       "2  10101  2012     8       1  1310.0              1       2       1936   \n",
       "3  10101  2013     9       1  2208.0              1       2       1936   \n",
       "4  10101  2014    10       1   864.0              1       2       1936   \n",
       "\n",
       "   education_level  marriage  religion occupation company_size  \\\n",
       "0                2         2         2                           \n",
       "1                2         2         2                           \n",
       "2                2         2         2                           \n",
       "3                2         2         2                           \n",
       "4                2         2         2                           \n",
       "\n",
       "  reason_none_worker  \n",
       "0                  8  \n",
       "1                 10  \n",
       "2                 10  \n",
       "3                  1  \n",
       "4                 10  "
      ]
     },
     "execution_count": 1,
     "metadata": {},
     "output_type": "execute_result"
    }
   ],
   "source": [
    "import pandas as pd\n",
    "df = pd.read_csv('archive/Korea Income and Welfare.csv')\n",
    "df.head()"
   ]
  },
  {
   "cell_type": "code",
   "execution_count": 2,
   "id": "0707a519",
   "metadata": {
    "scrolled": true
   },
   "outputs": [
    {
     "data": {
      "text/html": [
       "<div>\n",
       "<style scoped>\n",
       "    .dataframe tbody tr th:only-of-type {\n",
       "        vertical-align: middle;\n",
       "    }\n",
       "\n",
       "    .dataframe tbody tr th {\n",
       "        vertical-align: top;\n",
       "    }\n",
       "\n",
       "    .dataframe thead th {\n",
       "        text-align: right;\n",
       "    }\n",
       "</style>\n",
       "<table border=\"1\" class=\"dataframe\">\n",
       "  <thead>\n",
       "    <tr style=\"text-align: right;\">\n",
       "      <th></th>\n",
       "      <th>id</th>\n",
       "      <th>year</th>\n",
       "      <th>wave</th>\n",
       "      <th>region</th>\n",
       "      <th>income</th>\n",
       "      <th>family_member</th>\n",
       "      <th>gender</th>\n",
       "      <th>year_born</th>\n",
       "      <th>education_level</th>\n",
       "      <th>marriage</th>\n",
       "      <th>religion</th>\n",
       "    </tr>\n",
       "  </thead>\n",
       "  <tbody>\n",
       "    <tr>\n",
       "      <th>count</th>\n",
       "      <td>9.285700e+04</td>\n",
       "      <td>92857.000000</td>\n",
       "      <td>92857.000000</td>\n",
       "      <td>92857.000000</td>\n",
       "      <td>92857.000000</td>\n",
       "      <td>92857.000000</td>\n",
       "      <td>92857.000000</td>\n",
       "      <td>92857.000000</td>\n",
       "      <td>92857.000000</td>\n",
       "      <td>92857.000000</td>\n",
       "      <td>92857.000000</td>\n",
       "    </tr>\n",
       "    <tr>\n",
       "      <th>mean</th>\n",
       "      <td>4.365181e+07</td>\n",
       "      <td>2011.517958</td>\n",
       "      <td>7.517958</td>\n",
       "      <td>3.691353</td>\n",
       "      <td>3441.122327</td>\n",
       "      <td>2.484304</td>\n",
       "      <td>1.296316</td>\n",
       "      <td>1952.956740</td>\n",
       "      <td>4.511895</td>\n",
       "      <td>1.679389</td>\n",
       "      <td>1.499521</td>\n",
       "    </tr>\n",
       "    <tr>\n",
       "      <th>std</th>\n",
       "      <td>2.619007e+07</td>\n",
       "      <td>4.011222</td>\n",
       "      <td>4.011222</td>\n",
       "      <td>2.058961</td>\n",
       "      <td>4176.324522</td>\n",
       "      <td>1.292251</td>\n",
       "      <td>0.456634</td>\n",
       "      <td>16.006065</td>\n",
       "      <td>1.669887</td>\n",
       "      <td>1.103413</td>\n",
       "      <td>0.531572</td>\n",
       "    </tr>\n",
       "    <tr>\n",
       "      <th>min</th>\n",
       "      <td>1.010100e+04</td>\n",
       "      <td>2005.000000</td>\n",
       "      <td>1.000000</td>\n",
       "      <td>1.000000</td>\n",
       "      <td>-232174.000000</td>\n",
       "      <td>1.000000</td>\n",
       "      <td>1.000000</td>\n",
       "      <td>1910.000000</td>\n",
       "      <td>2.000000</td>\n",
       "      <td>0.000000</td>\n",
       "      <td>1.000000</td>\n",
       "    </tr>\n",
       "    <tr>\n",
       "      <th>25%</th>\n",
       "      <td>2.177120e+07</td>\n",
       "      <td>2008.000000</td>\n",
       "      <td>4.000000</td>\n",
       "      <td>2.000000</td>\n",
       "      <td>1140.000000</td>\n",
       "      <td>1.000000</td>\n",
       "      <td>1.000000</td>\n",
       "      <td>1939.000000</td>\n",
       "      <td>3.000000</td>\n",
       "      <td>1.000000</td>\n",
       "      <td>1.000000</td>\n",
       "    </tr>\n",
       "    <tr>\n",
       "      <th>50%</th>\n",
       "      <td>4.322010e+07</td>\n",
       "      <td>2012.000000</td>\n",
       "      <td>8.000000</td>\n",
       "      <td>3.000000</td>\n",
       "      <td>2428.000000</td>\n",
       "      <td>2.000000</td>\n",
       "      <td>1.000000</td>\n",
       "      <td>1952.000000</td>\n",
       "      <td>5.000000</td>\n",
       "      <td>1.000000</td>\n",
       "      <td>1.000000</td>\n",
       "    </tr>\n",
       "    <tr>\n",
       "      <th>75%</th>\n",
       "      <td>6.190030e+07</td>\n",
       "      <td>2015.000000</td>\n",
       "      <td>11.000000</td>\n",
       "      <td>5.000000</td>\n",
       "      <td>4695.000000</td>\n",
       "      <td>3.000000</td>\n",
       "      <td>2.000000</td>\n",
       "      <td>1966.000000</td>\n",
       "      <td>5.000000</td>\n",
       "      <td>2.000000</td>\n",
       "      <td>2.000000</td>\n",
       "    </tr>\n",
       "    <tr>\n",
       "      <th>max</th>\n",
       "      <td>9.800070e+07</td>\n",
       "      <td>2018.000000</td>\n",
       "      <td>14.000000</td>\n",
       "      <td>7.000000</td>\n",
       "      <td>468209.000000</td>\n",
       "      <td>9.000000</td>\n",
       "      <td>2.000000</td>\n",
       "      <td>2002.000000</td>\n",
       "      <td>9.000000</td>\n",
       "      <td>9.000000</td>\n",
       "      <td>9.000000</td>\n",
       "    </tr>\n",
       "  </tbody>\n",
       "</table>\n",
       "</div>"
      ],
      "text/plain": [
       "                 id          year          wave        region         income  \\\n",
       "count  9.285700e+04  92857.000000  92857.000000  92857.000000   92857.000000   \n",
       "mean   4.365181e+07   2011.517958      7.517958      3.691353    3441.122327   \n",
       "std    2.619007e+07      4.011222      4.011222      2.058961    4176.324522   \n",
       "min    1.010100e+04   2005.000000      1.000000      1.000000 -232174.000000   \n",
       "25%    2.177120e+07   2008.000000      4.000000      2.000000    1140.000000   \n",
       "50%    4.322010e+07   2012.000000      8.000000      3.000000    2428.000000   \n",
       "75%    6.190030e+07   2015.000000     11.000000      5.000000    4695.000000   \n",
       "max    9.800070e+07   2018.000000     14.000000      7.000000  468209.000000   \n",
       "\n",
       "       family_member        gender     year_born  education_level  \\\n",
       "count   92857.000000  92857.000000  92857.000000     92857.000000   \n",
       "mean        2.484304      1.296316   1952.956740         4.511895   \n",
       "std         1.292251      0.456634     16.006065         1.669887   \n",
       "min         1.000000      1.000000   1910.000000         2.000000   \n",
       "25%         1.000000      1.000000   1939.000000         3.000000   \n",
       "50%         2.000000      1.000000   1952.000000         5.000000   \n",
       "75%         3.000000      2.000000   1966.000000         5.000000   \n",
       "max         9.000000      2.000000   2002.000000         9.000000   \n",
       "\n",
       "           marriage      religion  \n",
       "count  92857.000000  92857.000000  \n",
       "mean       1.679389      1.499521  \n",
       "std        1.103413      0.531572  \n",
       "min        0.000000      1.000000  \n",
       "25%        1.000000      1.000000  \n",
       "50%        1.000000      1.000000  \n",
       "75%        2.000000      2.000000  \n",
       "max        9.000000      9.000000  "
      ]
     },
     "execution_count": 2,
     "metadata": {},
     "output_type": "execute_result"
    }
   ],
   "source": [
    "df.describe()"
   ]
  },
  {
   "cell_type": "code",
   "execution_count": 3,
   "id": "7632c3e8",
   "metadata": {},
   "outputs": [
    {
     "data": {
      "text/plain": [
       "id                    0\n",
       "year                  0\n",
       "wave                  0\n",
       "region                0\n",
       "income                0\n",
       "family_member         0\n",
       "gender                0\n",
       "year_born             0\n",
       "education_level       0\n",
       "marriage              0\n",
       "religion              0\n",
       "occupation            0\n",
       "company_size          0\n",
       "reason_none_worker    0\n",
       "dtype: int64"
      ]
     },
     "execution_count": 3,
     "metadata": {},
     "output_type": "execute_result"
    }
   ],
   "source": [
    "df.isnull().sum()"
   ]
  },
  {
   "cell_type": "code",
   "execution_count": 4,
   "id": "bb8d4514",
   "metadata": {},
   "outputs": [
    {
     "name": "stdout",
     "output_type": "stream",
     "text": [
      "region\n",
      "1    4028.787273\n",
      "2    3907.235626\n",
      "3    3433.993306\n",
      "4    2771.124671\n",
      "5    3742.423781\n",
      "6    3081.881088\n",
      "7    2870.977443\n",
      "Name: income, dtype: float64\n"
     ]
    }
   ],
   "source": [
    "avg_income_region = df.groupby('region')['income'].mean()\n",
    "print(avg_income_region)"
   ]
  },
  {
   "cell_type": "code",
   "execution_count": 5,
   "id": "709ba768",
   "metadata": {},
   "outputs": [
    {
     "name": "stdout",
     "output_type": "stream",
     "text": [
      "education_level\n",
      "2    15546\n",
      "3    40277\n",
      "4    28743\n",
      "5    77809\n",
      "6    18074\n",
      "7    42382\n",
      "8     7094\n",
      "9      760\n",
      "Name: family_member, dtype: int64\n"
     ]
    }
   ],
   "source": [
    "family_member_education = df.groupby('education_level')['family_member'].sum()\n",
    "print(family_member_education)"
   ]
  },
  {
   "cell_type": "code",
   "execution_count": 6,
   "id": "fc0433c1",
   "metadata": {
    "scrolled": false
   },
   "outputs": [
    {
     "name": "stdout",
     "output_type": "stream",
     "text": [
      "gender  religion  marriage\n",
      "1       1         1           0.887081\n",
      "                  5           0.037929\n",
      "                  3           0.036693\n",
      "                  2           0.032549\n",
      "                  4           0.005080\n",
      "                  6           0.000568\n",
      "                  0           0.000067\n",
      "                  9           0.000033\n",
      "        2         1           0.814362\n",
      "                  5           0.073169\n",
      "                  3           0.062030\n",
      "                  2           0.040260\n",
      "                  4           0.009217\n",
      "                  6           0.000679\n",
      "                  0           0.000226\n",
      "                  9           0.000057\n",
      "        9         1           0.875000\n",
      "                  2           0.041667\n",
      "                  5           0.041667\n",
      "                  0           0.020833\n",
      "                  6           0.020833\n",
      "2       1         2           0.712944\n",
      "                  3           0.151356\n",
      "                  1           0.062563\n",
      "                  5           0.047439\n",
      "                  4           0.025344\n",
      "                  6           0.000236\n",
      "                  0           0.000059\n",
      "                  9           0.000059\n",
      "        2         2           0.637687\n",
      "                  3           0.152901\n",
      "                  5           0.118787\n",
      "                  1           0.066245\n",
      "                  4           0.023058\n",
      "                  6           0.000851\n",
      "                  9           0.000284\n",
      "                  0           0.000189\n",
      "        9         5           0.500000\n",
      "                  2           0.333333\n",
      "                  3           0.166667\n",
      "Name: marriage, dtype: float64\n"
     ]
    }
   ],
   "source": [
    "gender_religion = df.groupby(['gender', 'religion'])['marriage'].value_counts(normalize=True)\n",
    "print(gender_religion)"
   ]
  },
  {
   "cell_type": "code",
   "execution_count": 7,
   "id": "a14c9b3e",
   "metadata": {},
   "outputs": [
    {
     "name": "stderr",
     "output_type": "stream",
     "text": [
      "C:\\Users\\wjsdl\\AppData\\Local\\Temp\\ipykernel_5164\\2081928226.py:1: FutureWarning: The default value of numeric_only in DataFrame.quantile is deprecated. In a future version, it will default to False. Select only valid columns or specify the value of numeric_only to silence this warning.\n",
      "  q3 = df.quantile(0.75)\n",
      "C:\\Users\\wjsdl\\AppData\\Local\\Temp\\ipykernel_5164\\2081928226.py:2: FutureWarning: The default value of numeric_only in DataFrame.quantile is deprecated. In a future version, it will default to False. Select only valid columns or specify the value of numeric_only to silence this warning.\n",
      "  q1 = df.quantile(0.25)\n"
     ]
    },
    {
     "data": {
      "text/plain": [
       "3000.0    71\n",
       "2400.0    70\n",
       "1800.0    69\n",
       "1200.0    57\n",
       "840.0     56\n",
       "          ..\n",
       "4130.4     1\n",
       "6836.0     1\n",
       "3354.4     1\n",
       "3706.2     1\n",
       "1446.3     1\n",
       "Name: income, Length: 10336, dtype: int64"
      ]
     },
     "execution_count": 7,
     "metadata": {},
     "output_type": "execute_result"
    }
   ],
   "source": [
    "q3 = df.quantile(0.75, numeric_only=True)\n",
    "q1 = df.quantile(0.25, numeric_only=True)\n",
    "\n",
    "iqr = q3 - q1\n",
    "\n",
    "def is_outlier(df):\n",
    "    score = df['income']\n",
    "    if score > q3['income'] + 1.5*iqr['income'] or score < q1['income'] - 1.5 * iqr['income']:\n",
    "        return True\n",
    "    else:\n",
    "        return False\n",
    "\n",
    "df['income_outlier'] = df.apply(is_outlier, axis = 1)\n",
    "\n",
    "df = df.loc[df['income_outlier'] == False]\n",
    "\n",
    "del df['income_outlier']\n",
    "\n",
    "df['income'].value_counts()"
   ]
  },
  {
   "cell_type": "code",
   "execution_count": 10,
   "id": "c3e8564b",
   "metadata": {},
   "outputs": [
    {
     "data": {
      "text/plain": [
       "3000.0    71\n",
       "2400.0    70\n",
       "1800.0    69\n",
       "1200.0    57\n",
       "840.0     56\n",
       "          ..\n",
       "4130.4     1\n",
       "6836.0     1\n",
       "3354.4     1\n",
       "3706.2     1\n",
       "1446.3     1\n",
       "Name: income, Length: 10336, dtype: int64"
      ]
     },
     "execution_count": 10,
     "metadata": {},
     "output_type": "execute_result"
    }
   ],
   "source": []
  },
  {
   "cell_type": "code",
   "execution_count": 11,
   "id": "529de230",
   "metadata": {},
   "outputs": [],
   "source": [
    "df_job_on = df[(df['occupation'] != ' ') & (df['reason_none_worker'] == ' ') ]"
   ]
  },
  {
   "cell_type": "code",
   "execution_count": 12,
   "id": "bcdaab6c",
   "metadata": {},
   "outputs": [],
   "source": [
    "df_job_on = df_job_on[(df_job_on['occupation'] != ' ') & (df_job_on['company_size'] != ' ') ]"
   ]
  },
  {
   "cell_type": "code",
   "execution_count": 13,
   "id": "32940bff",
   "metadata": {},
   "outputs": [
    {
     "data": {
      "text/html": [
       "<div>\n",
       "<style scoped>\n",
       "    .dataframe tbody tr th:only-of-type {\n",
       "        vertical-align: middle;\n",
       "    }\n",
       "\n",
       "    .dataframe tbody tr th {\n",
       "        vertical-align: top;\n",
       "    }\n",
       "\n",
       "    .dataframe thead th {\n",
       "        text-align: right;\n",
       "    }\n",
       "</style>\n",
       "<table border=\"1\" class=\"dataframe\">\n",
       "  <thead>\n",
       "    <tr style=\"text-align: right;\">\n",
       "      <th></th>\n",
       "      <th>id</th>\n",
       "      <th>year</th>\n",
       "      <th>wave</th>\n",
       "      <th>region</th>\n",
       "      <th>income</th>\n",
       "      <th>family_member</th>\n",
       "      <th>gender</th>\n",
       "      <th>year_born</th>\n",
       "      <th>education_level</th>\n",
       "      <th>marriage</th>\n",
       "      <th>religion</th>\n",
       "      <th>occupation</th>\n",
       "      <th>company_size</th>\n",
       "      <th>reason_none_worker</th>\n",
       "    </tr>\n",
       "  </thead>\n",
       "  <tbody>\n",
       "    <tr>\n",
       "      <th>8</th>\n",
       "      <td>20101</td>\n",
       "      <td>2005</td>\n",
       "      <td>1</td>\n",
       "      <td>1</td>\n",
       "      <td>1257.0</td>\n",
       "      <td>1</td>\n",
       "      <td>2</td>\n",
       "      <td>1945</td>\n",
       "      <td>4</td>\n",
       "      <td>2</td>\n",
       "      <td>2</td>\n",
       "      <td>421</td>\n",
       "      <td>1</td>\n",
       "      <td></td>\n",
       "    </tr>\n",
       "    <tr>\n",
       "      <th>10</th>\n",
       "      <td>20101</td>\n",
       "      <td>2007</td>\n",
       "      <td>3</td>\n",
       "      <td>1</td>\n",
       "      <td>602.0</td>\n",
       "      <td>1</td>\n",
       "      <td>2</td>\n",
       "      <td>1945</td>\n",
       "      <td>4</td>\n",
       "      <td>2</td>\n",
       "      <td>2</td>\n",
       "      <td>411</td>\n",
       "      <td>1</td>\n",
       "      <td></td>\n",
       "    </tr>\n",
       "    <tr>\n",
       "      <th>11</th>\n",
       "      <td>20101</td>\n",
       "      <td>2008</td>\n",
       "      <td>4</td>\n",
       "      <td>1</td>\n",
       "      <td>1972.0</td>\n",
       "      <td>1</td>\n",
       "      <td>2</td>\n",
       "      <td>1945</td>\n",
       "      <td>4</td>\n",
       "      <td>2</td>\n",
       "      <td>2</td>\n",
       "      <td>951</td>\n",
       "      <td>1</td>\n",
       "      <td></td>\n",
       "    </tr>\n",
       "    <tr>\n",
       "      <th>12</th>\n",
       "      <td>20101</td>\n",
       "      <td>2009</td>\n",
       "      <td>5</td>\n",
       "      <td>1</td>\n",
       "      <td>1638.0</td>\n",
       "      <td>1</td>\n",
       "      <td>2</td>\n",
       "      <td>1945</td>\n",
       "      <td>4</td>\n",
       "      <td>2</td>\n",
       "      <td>1</td>\n",
       "      <td>951</td>\n",
       "      <td>1</td>\n",
       "      <td></td>\n",
       "    </tr>\n",
       "    <tr>\n",
       "      <th>13</th>\n",
       "      <td>20101</td>\n",
       "      <td>2010</td>\n",
       "      <td>6</td>\n",
       "      <td>1</td>\n",
       "      <td>1598.0</td>\n",
       "      <td>1</td>\n",
       "      <td>2</td>\n",
       "      <td>1945</td>\n",
       "      <td>4</td>\n",
       "      <td>2</td>\n",
       "      <td>2</td>\n",
       "      <td>951</td>\n",
       "      <td>1</td>\n",
       "      <td></td>\n",
       "    </tr>\n",
       "  </tbody>\n",
       "</table>\n",
       "</div>"
      ],
      "text/plain": [
       "       id  year  wave  region  income  family_member  gender  year_born  \\\n",
       "8   20101  2005     1       1  1257.0              1       2       1945   \n",
       "10  20101  2007     3       1   602.0              1       2       1945   \n",
       "11  20101  2008     4       1  1972.0              1       2       1945   \n",
       "12  20101  2009     5       1  1638.0              1       2       1945   \n",
       "13  20101  2010     6       1  1598.0              1       2       1945   \n",
       "\n",
       "    education_level  marriage  religion occupation company_size  \\\n",
       "8                 4         2         2        421            1   \n",
       "10                4         2         2        411            1   \n",
       "11                4         2         2        951            1   \n",
       "12                4         2         1        951            1   \n",
       "13                4         2         2        951            1   \n",
       "\n",
       "   reason_none_worker  \n",
       "8                      \n",
       "10                     \n",
       "11                     \n",
       "12                     \n",
       "13                     "
      ]
     },
     "execution_count": 13,
     "metadata": {},
     "output_type": "execute_result"
    }
   ],
   "source": [
    "df_job_off = df[(df['occupation'] == ' ') & (df['reason_none_worker'] != ' ') ]\n",
    "\n",
    "df_job_on.head()"
   ]
  },
  {
   "cell_type": "code",
   "execution_count": 30,
   "id": "ff591f2e",
   "metadata": {},
   "outputs": [],
   "source": [
    "df_soldier = df_job_on[(df_job_on['occupation'] == '1011') | (df_job_on['occupation'] == '1012')]\n",
    "df_soldier.loc[:, 'occupation'] = '100'"
   ]
  },
  {
   "cell_type": "code",
   "execution_count": 31,
   "id": "0c14882f",
   "metadata": {},
   "outputs": [],
   "source": [
    "soldier_num = df_job_on[(df_job_on['occupation'] == '1011') | (df_job_on['occupation'] == '1012')].index\n",
    "df_job_on.drop(soldier_num, inplace=True)"
   ]
  },
  {
   "cell_type": "code",
   "execution_count": 32,
   "id": "24812116",
   "metadata": {},
   "outputs": [],
   "source": [
    "df_job_on['occupation'] = df_job_on['occupation'].str[0] * 2\n",
    "\n",
    "df_job_on = pd.concat([df_job_on,df_soldier])"
   ]
  },
  {
   "cell_type": "code",
   "execution_count": 33,
   "id": "b7d162bf",
   "metadata": {},
   "outputs": [
    {
     "data": {
      "text/plain": [
       "66    11248\n",
       "99    10861\n",
       "88     6961\n",
       "77     5927\n",
       "33     5535\n",
       "22     4785\n",
       "55     4351\n",
       "44     3820\n",
       "11     2066\n",
       "Name: occupation, dtype: int64"
      ]
     },
     "execution_count": 33,
     "metadata": {},
     "output_type": "execute_result"
    }
   ],
   "source": [
    "df_job_on['occupation'].value_counts()"
   ]
  },
  {
   "cell_type": "code",
   "execution_count": 34,
   "id": "c2c9be6f",
   "metadata": {},
   "outputs": [],
   "source": [
    "df_job_off['reason_none_worker'].replace('11', '0', inplace = True)"
   ]
  },
  {
   "cell_type": "code",
   "execution_count": 35,
   "id": "4a7d795e",
   "metadata": {},
   "outputs": [],
   "source": [
    "num = df_job_off[df_job_off['reason_none_worker']=='99'].index\n",
    "\n",
    "df_job_off.drop(num, inplace=True)"
   ]
  },
  {
   "cell_type": "code",
   "execution_count": 36,
   "id": "459b480f",
   "metadata": {},
   "outputs": [
    {
     "data": {
      "text/plain": [
       "10    18988\n",
       "8      4263\n",
       "9      2668\n",
       "1      2484\n",
       "7      1117\n",
       "6      1065\n",
       "4       703\n",
       "5       323\n",
       "0       235\n",
       "3        52\n",
       "2         7\n",
       "Name: reason_none_worker, dtype: int64"
      ]
     },
     "execution_count": 36,
     "metadata": {},
     "output_type": "execute_result"
    }
   ],
   "source": [
    "df_job_off['reason_none_worker'].value_counts()"
   ]
  },
  {
   "cell_type": "code",
   "execution_count": 37,
   "id": "df323e85",
   "metadata": {},
   "outputs": [
    {
     "ename": "KeyError",
     "evalue": "\"['id', 'year'] not found in axis\"",
     "output_type": "error",
     "traceback": [
      "\u001b[1;31m---------------------------------------------------------------------------\u001b[0m",
      "\u001b[1;31mKeyError\u001b[0m                                  Traceback (most recent call last)",
      "Cell \u001b[1;32mIn[37], line 1\u001b[0m\n\u001b[1;32m----> 1\u001b[0m df\u001b[38;5;241m.\u001b[39mdrop([\u001b[38;5;124m'\u001b[39m\u001b[38;5;124mid\u001b[39m\u001b[38;5;124m'\u001b[39m,\u001b[38;5;124m'\u001b[39m\u001b[38;5;124myear\u001b[39m\u001b[38;5;124m'\u001b[39m], axis \u001b[38;5;241m=\u001b[39m \u001b[38;5;241m1\u001b[39m, inplace \u001b[38;5;241m=\u001b[39m \u001b[38;5;28;01mTrue\u001b[39;00m)\n",
      "File \u001b[1;32m~\\anaconda3\\Lib\\site-packages\\pandas\\util\\_decorators.py:331\u001b[0m, in \u001b[0;36mdeprecate_nonkeyword_arguments.<locals>.decorate.<locals>.wrapper\u001b[1;34m(*args, **kwargs)\u001b[0m\n\u001b[0;32m    325\u001b[0m \u001b[38;5;28;01mif\u001b[39;00m \u001b[38;5;28mlen\u001b[39m(args) \u001b[38;5;241m>\u001b[39m num_allow_args:\n\u001b[0;32m    326\u001b[0m     warnings\u001b[38;5;241m.\u001b[39mwarn(\n\u001b[0;32m    327\u001b[0m         msg\u001b[38;5;241m.\u001b[39mformat(arguments\u001b[38;5;241m=\u001b[39m_format_argument_list(allow_args)),\n\u001b[0;32m    328\u001b[0m         \u001b[38;5;167;01mFutureWarning\u001b[39;00m,\n\u001b[0;32m    329\u001b[0m         stacklevel\u001b[38;5;241m=\u001b[39mfind_stack_level(),\n\u001b[0;32m    330\u001b[0m     )\n\u001b[1;32m--> 331\u001b[0m \u001b[38;5;28;01mreturn\u001b[39;00m func(\u001b[38;5;241m*\u001b[39margs, \u001b[38;5;241m*\u001b[39m\u001b[38;5;241m*\u001b[39mkwargs)\n",
      "File \u001b[1;32m~\\anaconda3\\Lib\\site-packages\\pandas\\core\\frame.py:5399\u001b[0m, in \u001b[0;36mDataFrame.drop\u001b[1;34m(self, labels, axis, index, columns, level, inplace, errors)\u001b[0m\n\u001b[0;32m   5251\u001b[0m \u001b[38;5;129m@deprecate_nonkeyword_arguments\u001b[39m(version\u001b[38;5;241m=\u001b[39m\u001b[38;5;28;01mNone\u001b[39;00m, allowed_args\u001b[38;5;241m=\u001b[39m[\u001b[38;5;124m\"\u001b[39m\u001b[38;5;124mself\u001b[39m\u001b[38;5;124m\"\u001b[39m, \u001b[38;5;124m\"\u001b[39m\u001b[38;5;124mlabels\u001b[39m\u001b[38;5;124m\"\u001b[39m])\n\u001b[0;32m   5252\u001b[0m \u001b[38;5;28;01mdef\u001b[39;00m \u001b[38;5;21mdrop\u001b[39m(  \u001b[38;5;66;03m# type: ignore[override]\u001b[39;00m\n\u001b[0;32m   5253\u001b[0m     \u001b[38;5;28mself\u001b[39m,\n\u001b[1;32m   (...)\u001b[0m\n\u001b[0;32m   5260\u001b[0m     errors: IgnoreRaise \u001b[38;5;241m=\u001b[39m \u001b[38;5;124m\"\u001b[39m\u001b[38;5;124mraise\u001b[39m\u001b[38;5;124m\"\u001b[39m,\n\u001b[0;32m   5261\u001b[0m ) \u001b[38;5;241m-\u001b[39m\u001b[38;5;241m>\u001b[39m DataFrame \u001b[38;5;241m|\u001b[39m \u001b[38;5;28;01mNone\u001b[39;00m:\n\u001b[0;32m   5262\u001b[0m \u001b[38;5;250m    \u001b[39m\u001b[38;5;124;03m\"\"\"\u001b[39;00m\n\u001b[0;32m   5263\u001b[0m \u001b[38;5;124;03m    Drop specified labels from rows or columns.\u001b[39;00m\n\u001b[0;32m   5264\u001b[0m \n\u001b[1;32m   (...)\u001b[0m\n\u001b[0;32m   5397\u001b[0m \u001b[38;5;124;03m            weight  1.0     0.8\u001b[39;00m\n\u001b[0;32m   5398\u001b[0m \u001b[38;5;124;03m    \"\"\"\u001b[39;00m\n\u001b[1;32m-> 5399\u001b[0m     \u001b[38;5;28;01mreturn\u001b[39;00m \u001b[38;5;28msuper\u001b[39m()\u001b[38;5;241m.\u001b[39mdrop(\n\u001b[0;32m   5400\u001b[0m         labels\u001b[38;5;241m=\u001b[39mlabels,\n\u001b[0;32m   5401\u001b[0m         axis\u001b[38;5;241m=\u001b[39maxis,\n\u001b[0;32m   5402\u001b[0m         index\u001b[38;5;241m=\u001b[39mindex,\n\u001b[0;32m   5403\u001b[0m         columns\u001b[38;5;241m=\u001b[39mcolumns,\n\u001b[0;32m   5404\u001b[0m         level\u001b[38;5;241m=\u001b[39mlevel,\n\u001b[0;32m   5405\u001b[0m         inplace\u001b[38;5;241m=\u001b[39minplace,\n\u001b[0;32m   5406\u001b[0m         errors\u001b[38;5;241m=\u001b[39merrors,\n\u001b[0;32m   5407\u001b[0m     )\n",
      "File \u001b[1;32m~\\anaconda3\\Lib\\site-packages\\pandas\\util\\_decorators.py:331\u001b[0m, in \u001b[0;36mdeprecate_nonkeyword_arguments.<locals>.decorate.<locals>.wrapper\u001b[1;34m(*args, **kwargs)\u001b[0m\n\u001b[0;32m    325\u001b[0m \u001b[38;5;28;01mif\u001b[39;00m \u001b[38;5;28mlen\u001b[39m(args) \u001b[38;5;241m>\u001b[39m num_allow_args:\n\u001b[0;32m    326\u001b[0m     warnings\u001b[38;5;241m.\u001b[39mwarn(\n\u001b[0;32m    327\u001b[0m         msg\u001b[38;5;241m.\u001b[39mformat(arguments\u001b[38;5;241m=\u001b[39m_format_argument_list(allow_args)),\n\u001b[0;32m    328\u001b[0m         \u001b[38;5;167;01mFutureWarning\u001b[39;00m,\n\u001b[0;32m    329\u001b[0m         stacklevel\u001b[38;5;241m=\u001b[39mfind_stack_level(),\n\u001b[0;32m    330\u001b[0m     )\n\u001b[1;32m--> 331\u001b[0m \u001b[38;5;28;01mreturn\u001b[39;00m func(\u001b[38;5;241m*\u001b[39margs, \u001b[38;5;241m*\u001b[39m\u001b[38;5;241m*\u001b[39mkwargs)\n",
      "File \u001b[1;32m~\\anaconda3\\Lib\\site-packages\\pandas\\core\\generic.py:4505\u001b[0m, in \u001b[0;36mNDFrame.drop\u001b[1;34m(self, labels, axis, index, columns, level, inplace, errors)\u001b[0m\n\u001b[0;32m   4503\u001b[0m \u001b[38;5;28;01mfor\u001b[39;00m axis, labels \u001b[38;5;129;01min\u001b[39;00m axes\u001b[38;5;241m.\u001b[39mitems():\n\u001b[0;32m   4504\u001b[0m     \u001b[38;5;28;01mif\u001b[39;00m labels \u001b[38;5;129;01mis\u001b[39;00m \u001b[38;5;129;01mnot\u001b[39;00m \u001b[38;5;28;01mNone\u001b[39;00m:\n\u001b[1;32m-> 4505\u001b[0m         obj \u001b[38;5;241m=\u001b[39m obj\u001b[38;5;241m.\u001b[39m_drop_axis(labels, axis, level\u001b[38;5;241m=\u001b[39mlevel, errors\u001b[38;5;241m=\u001b[39merrors)\n\u001b[0;32m   4507\u001b[0m \u001b[38;5;28;01mif\u001b[39;00m inplace:\n\u001b[0;32m   4508\u001b[0m     \u001b[38;5;28mself\u001b[39m\u001b[38;5;241m.\u001b[39m_update_inplace(obj)\n",
      "File \u001b[1;32m~\\anaconda3\\Lib\\site-packages\\pandas\\core\\generic.py:4546\u001b[0m, in \u001b[0;36mNDFrame._drop_axis\u001b[1;34m(self, labels, axis, level, errors, only_slice)\u001b[0m\n\u001b[0;32m   4544\u001b[0m         new_axis \u001b[38;5;241m=\u001b[39m axis\u001b[38;5;241m.\u001b[39mdrop(labels, level\u001b[38;5;241m=\u001b[39mlevel, errors\u001b[38;5;241m=\u001b[39merrors)\n\u001b[0;32m   4545\u001b[0m     \u001b[38;5;28;01melse\u001b[39;00m:\n\u001b[1;32m-> 4546\u001b[0m         new_axis \u001b[38;5;241m=\u001b[39m axis\u001b[38;5;241m.\u001b[39mdrop(labels, errors\u001b[38;5;241m=\u001b[39merrors)\n\u001b[0;32m   4547\u001b[0m     indexer \u001b[38;5;241m=\u001b[39m axis\u001b[38;5;241m.\u001b[39mget_indexer(new_axis)\n\u001b[0;32m   4549\u001b[0m \u001b[38;5;66;03m# Case for non-unique axis\u001b[39;00m\n\u001b[0;32m   4550\u001b[0m \u001b[38;5;28;01melse\u001b[39;00m:\n",
      "File \u001b[1;32m~\\anaconda3\\Lib\\site-packages\\pandas\\core\\indexes\\base.py:6934\u001b[0m, in \u001b[0;36mIndex.drop\u001b[1;34m(self, labels, errors)\u001b[0m\n\u001b[0;32m   6932\u001b[0m \u001b[38;5;28;01mif\u001b[39;00m mask\u001b[38;5;241m.\u001b[39many():\n\u001b[0;32m   6933\u001b[0m     \u001b[38;5;28;01mif\u001b[39;00m errors \u001b[38;5;241m!=\u001b[39m \u001b[38;5;124m\"\u001b[39m\u001b[38;5;124mignore\u001b[39m\u001b[38;5;124m\"\u001b[39m:\n\u001b[1;32m-> 6934\u001b[0m         \u001b[38;5;28;01mraise\u001b[39;00m \u001b[38;5;167;01mKeyError\u001b[39;00m(\u001b[38;5;124mf\u001b[39m\u001b[38;5;124m\"\u001b[39m\u001b[38;5;132;01m{\u001b[39;00m\u001b[38;5;28mlist\u001b[39m(labels[mask])\u001b[38;5;132;01m}\u001b[39;00m\u001b[38;5;124m not found in axis\u001b[39m\u001b[38;5;124m\"\u001b[39m)\n\u001b[0;32m   6935\u001b[0m     indexer \u001b[38;5;241m=\u001b[39m indexer[\u001b[38;5;241m~\u001b[39mmask]\n\u001b[0;32m   6936\u001b[0m \u001b[38;5;28;01mreturn\u001b[39;00m \u001b[38;5;28mself\u001b[39m\u001b[38;5;241m.\u001b[39mdelete(indexer)\n",
      "\u001b[1;31mKeyError\u001b[0m: \"['id', 'year'] not found in axis\""
     ]
    }
   ],
   "source": [
    "df.drop(['id','year'], axis = 1, inplace = True)"
   ]
  },
  {
   "cell_type": "code",
   "execution_count": 38,
   "id": "a21e8610",
   "metadata": {},
   "outputs": [],
   "source": [
    "df = df[df['income'] >= 0]"
   ]
  },
  {
   "cell_type": "code",
   "execution_count": 39,
   "id": "48d56100",
   "metadata": {},
   "outputs": [],
   "source": [
    "num1 = df[(df['marriage'] == 0) | (df['marriage'] == 9)].index\n",
    "df.drop(num1, inplace =True)"
   ]
  },
  {
   "cell_type": "code",
   "execution_count": 40,
   "id": "37ae199d",
   "metadata": {},
   "outputs": [],
   "source": [
    "num2 = df[df['religion'] == 9].index\n",
    "df.drop(num2, inplace=True)"
   ]
  },
  {
   "cell_type": "code",
   "execution_count": 41,
   "id": "d6c74e22",
   "metadata": {},
   "outputs": [],
   "source": [
    "num3 = df[df['company_size']=='99'].index\n",
    "df.drop(num3, inplace=True)"
   ]
  },
  {
   "cell_type": "code",
   "execution_count": 42,
   "id": "7cafc99b",
   "metadata": {},
   "outputs": [
    {
     "name": "stdout",
     "output_type": "stream",
     "text": [
      "2    18442\n",
      "7    15433\n",
      "3    15412\n",
      "1    13537\n",
      "4    11861\n",
      "5     7376\n",
      "6     6709\n",
      "Name: region, dtype: int64\n",
      "1    61401\n",
      "2    27369\n",
      "Name: gender, dtype: int64\n",
      "5    24921\n",
      "3    21030\n",
      "7    12327\n",
      "4    12059\n",
      "2    10829\n",
      "6     5564\n",
      "8     1844\n",
      "9      196\n",
      "Name: education_level, dtype: int64\n",
      "1    53315\n",
      "2    21154\n",
      "3     7387\n",
      "5     5716\n",
      "4     1144\n",
      "6       54\n",
      "Name: marriage, dtype: int64\n",
      "1    44856\n",
      "2    43914\n",
      "Name: religion, dtype: int64\n"
     ]
    }
   ],
   "source": [
    "print(df['region'].value_counts())\n",
    "print(df['gender'].value_counts())\n",
    "print(df['education_level'].value_counts())\n",
    "print(df['marriage'].value_counts())\n",
    "print(df['religion'].value_counts())"
   ]
  },
  {
   "cell_type": "code",
   "execution_count": 43,
   "id": "90dd9d65",
   "metadata": {},
   "outputs": [
    {
     "name": "stdout",
     "output_type": "stream",
     "text": [
      "<class 'pandas.core.frame.DataFrame'>\n",
      "Int64Index: 88770 entries, 0 to 92856\n",
      "Data columns (total 12 columns):\n",
      " #   Column              Non-Null Count  Dtype  \n",
      "---  ------              --------------  -----  \n",
      " 0   wave                88770 non-null  int64  \n",
      " 1   region              88770 non-null  int64  \n",
      " 2   income              88770 non-null  float64\n",
      " 3   family_member       88770 non-null  int64  \n",
      " 4   gender              88770 non-null  int64  \n",
      " 5   year_born           88770 non-null  int64  \n",
      " 6   education_level     88770 non-null  int64  \n",
      " 7   marriage            88770 non-null  int64  \n",
      " 8   religion            88770 non-null  int64  \n",
      " 9   occupation          88770 non-null  object \n",
      " 10  company_size        88770 non-null  object \n",
      " 11  reason_none_worker  88770 non-null  object \n",
      "dtypes: float64(1), int64(8), object(3)\n",
      "memory usage: 8.8+ MB\n"
     ]
    }
   ],
   "source": [
    "df.info()"
   ]
  },
  {
   "cell_type": "code",
   "execution_count": null,
   "id": "b4fb3ae9",
   "metadata": {},
   "outputs": [],
   "source": []
  }
 ],
 "metadata": {
  "kernelspec": {
   "display_name": "Python 3 (ipykernel)",
   "language": "python",
   "name": "python3"
  },
  "language_info": {
   "codemirror_mode": {
    "name": "ipython",
    "version": 3
   },
   "file_extension": ".py",
   "mimetype": "text/x-python",
   "name": "python",
   "nbconvert_exporter": "python",
   "pygments_lexer": "ipython3",
   "version": "3.11.3"
  }
 },
 "nbformat": 4,
 "nbformat_minor": 5
}
