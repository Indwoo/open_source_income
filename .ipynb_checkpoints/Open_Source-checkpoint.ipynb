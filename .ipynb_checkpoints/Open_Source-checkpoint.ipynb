{
 "cells": [
  {
   "cell_type": "code",
   "execution_count": 24,
   "id": "1397e0c8",
   "metadata": {
    "scrolled": true
   },
   "outputs": [
    {
     "data": {
      "text/html": [
       "<div>\n",
       "<style scoped>\n",
       "    .dataframe tbody tr th:only-of-type {\n",
       "        vertical-align: middle;\n",
       "    }\n",
       "\n",
       "    .dataframe tbody tr th {\n",
       "        vertical-align: top;\n",
       "    }\n",
       "\n",
       "    .dataframe thead th {\n",
       "        text-align: right;\n",
       "    }\n",
       "</style>\n",
       "<table border=\"1\" class=\"dataframe\">\n",
       "  <thead>\n",
       "    <tr style=\"text-align: right;\">\n",
       "      <th></th>\n",
       "      <th>id</th>\n",
       "      <th>year</th>\n",
       "      <th>wave</th>\n",
       "      <th>region</th>\n",
       "      <th>income</th>\n",
       "      <th>family_member</th>\n",
       "      <th>gender</th>\n",
       "      <th>year_born</th>\n",
       "      <th>education_level</th>\n",
       "      <th>marriage</th>\n",
       "      <th>religion</th>\n",
       "      <th>occupation</th>\n",
       "      <th>company_size</th>\n",
       "      <th>reason_none_worker</th>\n",
       "    </tr>\n",
       "  </thead>\n",
       "  <tbody>\n",
       "    <tr>\n",
       "      <th>0</th>\n",
       "      <td>10101</td>\n",
       "      <td>2005</td>\n",
       "      <td>1</td>\n",
       "      <td>1</td>\n",
       "      <td>614.0</td>\n",
       "      <td>1</td>\n",
       "      <td>2</td>\n",
       "      <td>1936</td>\n",
       "      <td>2</td>\n",
       "      <td>2</td>\n",
       "      <td>2</td>\n",
       "      <td></td>\n",
       "      <td></td>\n",
       "      <td>8</td>\n",
       "    </tr>\n",
       "    <tr>\n",
       "      <th>1</th>\n",
       "      <td>10101</td>\n",
       "      <td>2011</td>\n",
       "      <td>7</td>\n",
       "      <td>1</td>\n",
       "      <td>896.0</td>\n",
       "      <td>1</td>\n",
       "      <td>2</td>\n",
       "      <td>1936</td>\n",
       "      <td>2</td>\n",
       "      <td>2</td>\n",
       "      <td>2</td>\n",
       "      <td></td>\n",
       "      <td></td>\n",
       "      <td>10</td>\n",
       "    </tr>\n",
       "    <tr>\n",
       "      <th>2</th>\n",
       "      <td>10101</td>\n",
       "      <td>2012</td>\n",
       "      <td>8</td>\n",
       "      <td>1</td>\n",
       "      <td>1310.0</td>\n",
       "      <td>1</td>\n",
       "      <td>2</td>\n",
       "      <td>1936</td>\n",
       "      <td>2</td>\n",
       "      <td>2</td>\n",
       "      <td>2</td>\n",
       "      <td></td>\n",
       "      <td></td>\n",
       "      <td>10</td>\n",
       "    </tr>\n",
       "    <tr>\n",
       "      <th>3</th>\n",
       "      <td>10101</td>\n",
       "      <td>2013</td>\n",
       "      <td>9</td>\n",
       "      <td>1</td>\n",
       "      <td>2208.0</td>\n",
       "      <td>1</td>\n",
       "      <td>2</td>\n",
       "      <td>1936</td>\n",
       "      <td>2</td>\n",
       "      <td>2</td>\n",
       "      <td>2</td>\n",
       "      <td></td>\n",
       "      <td></td>\n",
       "      <td>1</td>\n",
       "    </tr>\n",
       "    <tr>\n",
       "      <th>4</th>\n",
       "      <td>10101</td>\n",
       "      <td>2014</td>\n",
       "      <td>10</td>\n",
       "      <td>1</td>\n",
       "      <td>864.0</td>\n",
       "      <td>1</td>\n",
       "      <td>2</td>\n",
       "      <td>1936</td>\n",
       "      <td>2</td>\n",
       "      <td>2</td>\n",
       "      <td>2</td>\n",
       "      <td></td>\n",
       "      <td></td>\n",
       "      <td>10</td>\n",
       "    </tr>\n",
       "  </tbody>\n",
       "</table>\n",
       "</div>"
      ],
      "text/plain": [
       "      id  year  wave  region  income  family_member  gender  year_born  \\\n",
       "0  10101  2005     1       1   614.0              1       2       1936   \n",
       "1  10101  2011     7       1   896.0              1       2       1936   \n",
       "2  10101  2012     8       1  1310.0              1       2       1936   \n",
       "3  10101  2013     9       1  2208.0              1       2       1936   \n",
       "4  10101  2014    10       1   864.0              1       2       1936   \n",
       "\n",
       "   education_level  marriage  religion occupation company_size  \\\n",
       "0                2         2         2                           \n",
       "1                2         2         2                           \n",
       "2                2         2         2                           \n",
       "3                2         2         2                           \n",
       "4                2         2         2                           \n",
       "\n",
       "  reason_none_worker  \n",
       "0                  8  \n",
       "1                 10  \n",
       "2                 10  \n",
       "3                  1  \n",
       "4                 10  "
      ]
     },
     "execution_count": 24,
     "metadata": {},
     "output_type": "execute_result"
    }
   ],
   "source": [
    "import pandas as pd\n",
    "df = pd.read_csv('archive/Korea Income and Welfare.csv')\n",
    "df.head()"
   ]
  },
  {
   "cell_type": "code",
   "execution_count": 25,
   "id": "7632c3e8",
   "metadata": {},
   "outputs": [
    {
     "data": {
      "text/plain": [
       "id                    0\n",
       "year                  0\n",
       "wave                  0\n",
       "region                0\n",
       "income                0\n",
       "family_member         0\n",
       "gender                0\n",
       "year_born             0\n",
       "education_level       0\n",
       "marriage              0\n",
       "religion              0\n",
       "occupation            0\n",
       "company_size          0\n",
       "reason_none_worker    0\n",
       "dtype: int64"
      ]
     },
     "execution_count": 25,
     "metadata": {},
     "output_type": "execute_result"
    }
   ],
   "source": [
    "df.isnull().sum()"
   ]
  },
  {
   "cell_type": "code",
   "execution_count": 26,
   "id": "23e3974a",
   "metadata": {},
   "outputs": [
    {
     "name": "stdout",
     "output_type": "stream",
     "text": [
      "region\n",
      "1    4028.787273\n",
      "2    3907.235626\n",
      "3    3433.993306\n",
      "4    2771.124671\n",
      "5    3742.423781\n",
      "6    3081.881088\n",
      "7    2870.977443\n",
      "Name: income, dtype: float64\n"
     ]
    }
   ],
   "source": [
    "avg_income_region = df.groupby('region')['income'].mean()\n",
    "print(avg_income_region)"
   ]
  },
  {
   "cell_type": "code",
   "execution_count": 27,
   "id": "f576f2b1",
   "metadata": {},
   "outputs": [
    {
     "name": "stdout",
     "output_type": "stream",
     "text": [
      "education_level\n",
      "2    15546\n",
      "3    40277\n",
      "4    28743\n",
      "5    77809\n",
      "6    18074\n",
      "7    42382\n",
      "8     7094\n",
      "9      760\n",
      "Name: family_member, dtype: int64\n"
     ]
    }
   ],
   "source": [
    "family_member_education = df.groupby('education_level')['family_member'].sum()\n",
    "print(family_member_education)"
   ]
  },
  {
   "cell_type": "code",
   "execution_count": 28,
   "id": "d31df856",
   "metadata": {
    "scrolled": false
   },
   "outputs": [
    {
     "name": "stdout",
     "output_type": "stream",
     "text": [
      "gender  religion  marriage\n",
      "1       1         1           0.887081\n",
      "                  5           0.037929\n",
      "                  3           0.036693\n",
      "                  2           0.032549\n",
      "                  4           0.005080\n",
      "                  6           0.000568\n",
      "                  0           0.000067\n",
      "                  9           0.000033\n",
      "        2         1           0.814362\n",
      "                  5           0.073169\n",
      "                  3           0.062030\n",
      "                  2           0.040260\n",
      "                  4           0.009217\n",
      "                  6           0.000679\n",
      "                  0           0.000226\n",
      "                  9           0.000057\n",
      "        9         1           0.875000\n",
      "                  2           0.041667\n",
      "                  5           0.041667\n",
      "                  0           0.020833\n",
      "                  6           0.020833\n",
      "2       1         2           0.712944\n",
      "                  3           0.151356\n",
      "                  1           0.062563\n",
      "                  5           0.047439\n",
      "                  4           0.025344\n",
      "                  6           0.000236\n",
      "                  0           0.000059\n",
      "                  9           0.000059\n",
      "        2         2           0.637687\n",
      "                  3           0.152901\n",
      "                  5           0.118787\n",
      "                  1           0.066245\n",
      "                  4           0.023058\n",
      "                  6           0.000851\n",
      "                  9           0.000284\n",
      "                  0           0.000189\n",
      "        9         5           0.500000\n",
      "                  2           0.333333\n",
      "                  3           0.166667\n",
      "Name: marriage, dtype: float64\n"
     ]
    }
   ],
   "source": [
    "gender_religion = df.groupby(['gender', 'religion'])['marriage'].value_counts(normalize=True)\n",
    "print(gender_religion)"
   ]
  },
  {
   "cell_type": "code",
   "execution_count": 29,
   "id": "bde189e2",
   "metadata": {},
   "outputs": [
    {
     "data": {
      "text/plain": [
       "3000.0    71\n",
       "2400.0    70\n",
       "1800.0    69\n",
       "1200.0    57\n",
       "840.0     56\n",
       "          ..\n",
       "4130.4     1\n",
       "6836.0     1\n",
       "3354.4     1\n",
       "3706.2     1\n",
       "1446.3     1\n",
       "Name: income, Length: 10336, dtype: int64"
      ]
     },
     "execution_count": 29,
     "metadata": {},
     "output_type": "execute_result"
    }
   ],
   "source": [
    "q3 = df.quantile(0.75, numeric_only=True)\n",
    "q1 = df.quantile(0.25, numeric_only=True)\n",
    "\n",
    "iqr = q3 - q1\n",
    "\n",
    "def is_outlier(df):\n",
    "    score = df['income']\n",
    "    if score > q3['income'] + 1.5*iqr['income'] or score < q1['income'] - 1.5 * iqr['income']:\n",
    "        return True\n",
    "    else:\n",
    "        return False\n",
    "\n",
    "df['income_outlier'] = df.apply(is_outlier, axis = 1)\n",
    "\n",
    "df = df.loc[df['income_outlier'] == False]\n",
    "\n",
    "del df['income_outlier']\n",
    "\n",
    "df['income'].value_counts()"
   ]
  },
  {
   "cell_type": "code",
   "execution_count": 30,
   "id": "b67f0e57",
   "metadata": {
    "scrolled": true
   },
   "outputs": [
    {
     "data": {
      "text/html": [
       "<div>\n",
       "<style scoped>\n",
       "    .dataframe tbody tr th:only-of-type {\n",
       "        vertical-align: middle;\n",
       "    }\n",
       "\n",
       "    .dataframe tbody tr th {\n",
       "        vertical-align: top;\n",
       "    }\n",
       "\n",
       "    .dataframe thead th {\n",
       "        text-align: right;\n",
       "    }\n",
       "</style>\n",
       "<table border=\"1\" class=\"dataframe\">\n",
       "  <thead>\n",
       "    <tr style=\"text-align: right;\">\n",
       "      <th></th>\n",
       "      <th>id</th>\n",
       "      <th>year</th>\n",
       "      <th>wave</th>\n",
       "      <th>region</th>\n",
       "      <th>income</th>\n",
       "      <th>family_member</th>\n",
       "      <th>gender</th>\n",
       "      <th>year_born</th>\n",
       "      <th>education_level</th>\n",
       "      <th>marriage</th>\n",
       "      <th>religion</th>\n",
       "      <th>occupation</th>\n",
       "      <th>company_size</th>\n",
       "      <th>reason_none_worker</th>\n",
       "    </tr>\n",
       "  </thead>\n",
       "  <tbody>\n",
       "    <tr>\n",
       "      <th>8</th>\n",
       "      <td>20101</td>\n",
       "      <td>2005</td>\n",
       "      <td>1</td>\n",
       "      <td>1</td>\n",
       "      <td>1257.0</td>\n",
       "      <td>1</td>\n",
       "      <td>2</td>\n",
       "      <td>1945</td>\n",
       "      <td>4</td>\n",
       "      <td>2</td>\n",
       "      <td>2</td>\n",
       "      <td>421</td>\n",
       "      <td>1</td>\n",
       "      <td></td>\n",
       "    </tr>\n",
       "    <tr>\n",
       "      <th>10</th>\n",
       "      <td>20101</td>\n",
       "      <td>2007</td>\n",
       "      <td>3</td>\n",
       "      <td>1</td>\n",
       "      <td>602.0</td>\n",
       "      <td>1</td>\n",
       "      <td>2</td>\n",
       "      <td>1945</td>\n",
       "      <td>4</td>\n",
       "      <td>2</td>\n",
       "      <td>2</td>\n",
       "      <td>411</td>\n",
       "      <td>1</td>\n",
       "      <td></td>\n",
       "    </tr>\n",
       "    <tr>\n",
       "      <th>11</th>\n",
       "      <td>20101</td>\n",
       "      <td>2008</td>\n",
       "      <td>4</td>\n",
       "      <td>1</td>\n",
       "      <td>1972.0</td>\n",
       "      <td>1</td>\n",
       "      <td>2</td>\n",
       "      <td>1945</td>\n",
       "      <td>4</td>\n",
       "      <td>2</td>\n",
       "      <td>2</td>\n",
       "      <td>951</td>\n",
       "      <td>1</td>\n",
       "      <td></td>\n",
       "    </tr>\n",
       "    <tr>\n",
       "      <th>12</th>\n",
       "      <td>20101</td>\n",
       "      <td>2009</td>\n",
       "      <td>5</td>\n",
       "      <td>1</td>\n",
       "      <td>1638.0</td>\n",
       "      <td>1</td>\n",
       "      <td>2</td>\n",
       "      <td>1945</td>\n",
       "      <td>4</td>\n",
       "      <td>2</td>\n",
       "      <td>1</td>\n",
       "      <td>951</td>\n",
       "      <td>1</td>\n",
       "      <td></td>\n",
       "    </tr>\n",
       "    <tr>\n",
       "      <th>13</th>\n",
       "      <td>20101</td>\n",
       "      <td>2010</td>\n",
       "      <td>6</td>\n",
       "      <td>1</td>\n",
       "      <td>1598.0</td>\n",
       "      <td>1</td>\n",
       "      <td>2</td>\n",
       "      <td>1945</td>\n",
       "      <td>4</td>\n",
       "      <td>2</td>\n",
       "      <td>2</td>\n",
       "      <td>951</td>\n",
       "      <td>1</td>\n",
       "      <td></td>\n",
       "    </tr>\n",
       "  </tbody>\n",
       "</table>\n",
       "</div>"
      ],
      "text/plain": [
       "       id  year  wave  region  income  family_member  gender  year_born  \\\n",
       "8   20101  2005     1       1  1257.0              1       2       1945   \n",
       "10  20101  2007     3       1   602.0              1       2       1945   \n",
       "11  20101  2008     4       1  1972.0              1       2       1945   \n",
       "12  20101  2009     5       1  1638.0              1       2       1945   \n",
       "13  20101  2010     6       1  1598.0              1       2       1945   \n",
       "\n",
       "    education_level  marriage  religion occupation company_size  \\\n",
       "8                 4         2         2        421            1   \n",
       "10                4         2         2        411            1   \n",
       "11                4         2         2        951            1   \n",
       "12                4         2         1        951            1   \n",
       "13                4         2         2        951            1   \n",
       "\n",
       "   reason_none_worker  \n",
       "8                      \n",
       "10                     \n",
       "11                     \n",
       "12                     \n",
       "13                     "
      ]
     },
     "execution_count": 30,
     "metadata": {},
     "output_type": "execute_result"
    }
   ],
   "source": [
    "df_job_on = df[(df['occupation'] != ' ') & (df['reason_none_worker'] == ' ') ]\n",
    "\n",
    "df_job_on = df_job_on[(df_job_on['occupation'] != ' ') & (df_job_on['company_size'] != ' ') ]\n",
    "\n",
    "df_job_off = df[(df['occupation'] == ' ') & (df['reason_none_worker'] != ' ') ]\n",
    "\n",
    "df_job_on.head()"
   ]
  },
  {
   "cell_type": "code",
   "execution_count": 31,
   "id": "74131fb7",
   "metadata": {
    "scrolled": true
   },
   "outputs": [
    {
     "name": "stderr",
     "output_type": "stream",
     "text": [
      "C:\\Users\\wjsdl\\AppData\\Local\\Temp\\ipykernel_12308\\3394128914.py:3: SettingWithCopyWarning: \n",
      "A value is trying to be set on a copy of a slice from a DataFrame.\n",
      "Try using .loc[row_indexer,col_indexer] = value instead\n",
      "\n",
      "See the caveats in the documentation: https://pandas.pydata.org/pandas-docs/stable/user_guide/indexing.html#returning-a-view-versus-a-copy\n",
      "  df_soldier['occupation'] = '100'\n"
     ]
    }
   ],
   "source": [
    "df_soldier = df_job_on[(df_job_on['occupation'] == '1011') | (df_job_on['occupation'] == '1012')]\n",
    "\n",
    "df_soldier['occupation'] = '100'\n",
    "\n",
    "soldier_num = df_job_on[(df_job_on['occupation'] == '1011') | (df_job_on['occupation'] == '1012')].index\n",
    "df_job_on.drop(soldier_num, inplace = True)"
   ]
  },
  {
   "cell_type": "code",
   "execution_count": 32,
   "id": "2eb84808",
   "metadata": {},
   "outputs": [
    {
     "data": {
      "text/plain": [
       "66     11248\n",
       "99     10861\n",
       "88      6961\n",
       "77      5927\n",
       "33      5535\n",
       "22      4785\n",
       "55      4351\n",
       "44      3820\n",
       "11      1807\n",
       "100      259\n",
       "Name: occupation, dtype: int64"
      ]
     },
     "execution_count": 32,
     "metadata": {},
     "output_type": "execute_result"
    }
   ],
   "source": [
    "df_job_on['occupation'] = df_job_on['occupation'].str[0] * 2\n",
    "\n",
    "df_job_on = pd.concat([df_job_on,df_soldier])\n",
    "df_job_on['occupation'].value_counts()"
   ]
  },
  {
   "cell_type": "code",
   "execution_count": 33,
   "id": "e89ce3d9",
   "metadata": {},
   "outputs": [
    {
     "name": "stderr",
     "output_type": "stream",
     "text": [
      "C:\\Users\\wjsdl\\AppData\\Local\\Temp\\ipykernel_12308\\3490302467.py:1: SettingWithCopyWarning: \n",
      "A value is trying to be set on a copy of a slice from a DataFrame\n",
      "\n",
      "See the caveats in the documentation: https://pandas.pydata.org/pandas-docs/stable/user_guide/indexing.html#returning-a-view-versus-a-copy\n",
      "  df_job_off['reason_none_worker'].replace('11','0', inplace=True)\n",
      "C:\\Users\\wjsdl\\AppData\\Local\\Temp\\ipykernel_12308\\3490302467.py:5: SettingWithCopyWarning: \n",
      "A value is trying to be set on a copy of a slice from a DataFrame\n",
      "\n",
      "See the caveats in the documentation: https://pandas.pydata.org/pandas-docs/stable/user_guide/indexing.html#returning-a-view-versus-a-copy\n",
      "  df_job_off.drop(num, inplace=True)\n"
     ]
    },
    {
     "data": {
      "text/plain": [
       "10    18988\n",
       "8      4263\n",
       "9      2668\n",
       "1      2484\n",
       "7      1117\n",
       "6      1065\n",
       "4       703\n",
       "5       323\n",
       "0       235\n",
       "3        52\n",
       "2         7\n",
       "Name: reason_none_worker, dtype: int64"
      ]
     },
     "execution_count": 33,
     "metadata": {},
     "output_type": "execute_result"
    }
   ],
   "source": [
    "df_job_off['reason_none_worker'].replace('11','0', inplace=True)\n",
    "\n",
    "num = df_job_off[df_job_off['reason_none_worker'] == '99'].index\n",
    "\n",
    "df_job_off.drop(num, inplace=True)\n",
    "df_job_off['reason_none_worker'].value_counts()"
   ]
  },
  {
   "cell_type": "code",
   "execution_count": 34,
   "id": "0d8b69ab",
   "metadata": {},
   "outputs": [
    {
     "name": "stderr",
     "output_type": "stream",
     "text": [
      "C:\\Users\\wjsdl\\AppData\\Local\\Temp\\ipykernel_12308\\1247510087.py:1: SettingWithCopyWarning: \n",
      "A value is trying to be set on a copy of a slice from a DataFrame.\n",
      "Try using .loc[row_indexer,col_indexer] = value instead\n",
      "\n",
      "See the caveats in the documentation: https://pandas.pydata.org/pandas-docs/stable/user_guide/indexing.html#returning-a-view-versus-a-copy\n",
      "  df_job_off['occupation'] = df_job_off['reason_none_worker']\n",
      "C:\\Users\\wjsdl\\AppData\\Local\\Temp\\ipykernel_12308\\1247510087.py:2: SettingWithCopyWarning: \n",
      "A value is trying to be set on a copy of a slice from a DataFrame.\n",
      "Try using .loc[row_indexer,col_indexer] = value instead\n",
      "\n",
      "See the caveats in the documentation: https://pandas.pydata.org/pandas-docs/stable/user_guide/indexing.html#returning-a-view-versus-a-copy\n",
      "  df_job_off['company_size'] = 0\n"
     ]
    }
   ],
   "source": [
    "df_job_off['occupation'] = df_job_off['reason_none_worker']\n",
    "df_job_off['company_size'] = 0"
   ]
  },
  {
   "cell_type": "code",
   "execution_count": 35,
   "id": "d9010d0b",
   "metadata": {},
   "outputs": [],
   "source": [
    "df1 = pd.concat([df_job_on,df_job_off])\n",
    "df1.drop('reason_none_worker',axis=1,inplace=True)"
   ]
  },
  {
   "cell_type": "code",
   "execution_count": 36,
   "id": "afce76b0",
   "metadata": {},
   "outputs": [],
   "source": [
    "df1.drop(['id','year'], axis = 1, inplace = True)\n",
    "\n",
    "df1 = df1[df1['income'] >= 0]"
   ]
  },
  {
   "cell_type": "code",
   "execution_count": 37,
   "id": "e9dc7fe2",
   "metadata": {},
   "outputs": [],
   "source": [
    "num1 = df1[(df1['marriage'] == 0) | (df1['marriage'] == 9)].index\n",
    "df1.drop(num1, inplace =True)\n",
    "\n",
    "num2 = df1[df1['religion'] == 9].index\n",
    "df1.drop(num2, inplace=True)\n",
    "\n",
    "num3 = df1[df1['company_size']=='99'].index\n",
    "df1.drop(num3, inplace=True)"
   ]
  },
  {
   "cell_type": "code",
   "execution_count": 38,
   "id": "1b44e93e",
   "metadata": {},
   "outputs": [
    {
     "name": "stdout",
     "output_type": "stream",
     "text": [
      "<class 'pandas.core.frame.DataFrame'>\n",
      "Int64Index: 87231 entries, 8 to 92848\n",
      "Data columns (total 11 columns):\n",
      " #   Column           Non-Null Count  Dtype  \n",
      "---  ------           --------------  -----  \n",
      " 0   wave             87231 non-null  int64  \n",
      " 1   region           87231 non-null  int64  \n",
      " 2   income           87231 non-null  float64\n",
      " 3   family_member    87231 non-null  int64  \n",
      " 4   gender           87231 non-null  int64  \n",
      " 5   year_born        87231 non-null  int64  \n",
      " 6   education_level  87231 non-null  int64  \n",
      " 7   marriage         87231 non-null  int64  \n",
      " 8   religion         87231 non-null  int64  \n",
      " 9   occupation       87231 non-null  object \n",
      " 10  company_size     87231 non-null  object \n",
      "dtypes: float64(1), int64(8), object(2)\n",
      "memory usage: 8.0+ MB\n"
     ]
    }
   ],
   "source": [
    "df1.info()"
   ]
  },
  {
   "cell_type": "code",
   "execution_count": 39,
   "id": "9ce65b19",
   "metadata": {},
   "outputs": [],
   "source": [
    "df1['region'] = df['region'].apply(str)\n",
    "\n",
    "df1['company_size'] = pd.to_numeric(df1['company_size'])\n",
    "\n",
    "df1['gender'].replace([1,2],[0,1],inplace=True)\n",
    "df1['religion'].replace([1,2],[0,1],inplace=True)"
   ]
  },
  {
   "cell_type": "code",
   "execution_count": 40,
   "id": "4af5795c",
   "metadata": {},
   "outputs": [],
   "source": [
    "cal_cols = df1.select_dtypes('object').columns.values\n",
    "\n",
    "df2 = pd.get_dummies(data=df1,columns=cal_cols)"
   ]
  },
  {
   "cell_type": "code",
   "execution_count": 41,
   "id": "f8293670",
   "metadata": {},
   "outputs": [
    {
     "data": {
      "text/plain": [
       "((87231, 36), (87231,))"
      ]
     },
     "execution_count": 41,
     "metadata": {},
     "output_type": "execute_result"
    }
   ],
   "source": [
    "X = df2.drop('income',axis=1).values\n",
    "y = df2['income'].values\n",
    "\n",
    "X.shape, y.shape"
   ]
  },
  {
   "cell_type": "code",
   "execution_count": 42,
   "id": "f7b84631",
   "metadata": {},
   "outputs": [],
   "source": [
    "from sklearn.model_selection import train_test_split\n",
    "\n",
    "x_train, x_test, y_train, y_test = train_test_split(X, y, test_size=0.3, random_state = 42)"
   ]
  },
  {
   "cell_type": "code",
   "execution_count": 43,
   "id": "4aa8bbb4",
   "metadata": {},
   "outputs": [
    {
     "data": {
      "text/plain": [
       "(array([-1.37217991, -0.33491629, -0.67015408, -1.02021716, -0.87074678,\n",
       "        -0.63298947, -0.98406111, -0.36970607, -0.42223614, -0.51072052,\n",
       "        -0.45803875, -0.39507735, -0.30004106,  3.49319029, -0.46065304,\n",
       "        -0.05314896, -0.17024987, -0.526358  , -0.05422281, -0.1469094 ,\n",
       "        -0.00809398, -0.24024562, -0.02428831, -0.26138436, -0.09040411,\n",
       "        -0.21215644, -0.0616236 , -0.22905759, -0.1126384 , -0.38034828,\n",
       "        -0.11338161, -0.27063161, -0.2268713 ,  3.39414155, -0.17730147,\n",
       "        -0.37774868]),\n",
       " 933.0)"
      ]
     },
     "execution_count": 43,
     "metadata": {},
     "output_type": "execute_result"
    }
   ],
   "source": [
    "from sklearn.preprocessing import StandardScaler\n",
    "\n",
    "scaler = StandardScaler()\n",
    "\n",
    "x_train = scaler.fit_transform(x_train)\n",
    "x_test = scaler.transform(x_test)\n",
    "\n",
    "x_train[0], y_train[0]"
   ]
  },
  {
   "cell_type": "code",
   "execution_count": 44,
   "id": "3dd192fc",
   "metadata": {},
   "outputs": [
    {
     "data": {
      "text/html": [
       "<style>#sk-container-id-1 {color: black;background-color: white;}#sk-container-id-1 pre{padding: 0;}#sk-container-id-1 div.sk-toggleable {background-color: white;}#sk-container-id-1 label.sk-toggleable__label {cursor: pointer;display: block;width: 100%;margin-bottom: 0;padding: 0.3em;box-sizing: border-box;text-align: center;}#sk-container-id-1 label.sk-toggleable__label-arrow:before {content: \"▸\";float: left;margin-right: 0.25em;color: #696969;}#sk-container-id-1 label.sk-toggleable__label-arrow:hover:before {color: black;}#sk-container-id-1 div.sk-estimator:hover label.sk-toggleable__label-arrow:before {color: black;}#sk-container-id-1 div.sk-toggleable__content {max-height: 0;max-width: 0;overflow: hidden;text-align: left;background-color: #f0f8ff;}#sk-container-id-1 div.sk-toggleable__content pre {margin: 0.2em;color: black;border-radius: 0.25em;background-color: #f0f8ff;}#sk-container-id-1 input.sk-toggleable__control:checked~div.sk-toggleable__content {max-height: 200px;max-width: 100%;overflow: auto;}#sk-container-id-1 input.sk-toggleable__control:checked~label.sk-toggleable__label-arrow:before {content: \"▾\";}#sk-container-id-1 div.sk-estimator input.sk-toggleable__control:checked~label.sk-toggleable__label {background-color: #d4ebff;}#sk-container-id-1 div.sk-label input.sk-toggleable__control:checked~label.sk-toggleable__label {background-color: #d4ebff;}#sk-container-id-1 input.sk-hidden--visually {border: 0;clip: rect(1px 1px 1px 1px);clip: rect(1px, 1px, 1px, 1px);height: 1px;margin: -1px;overflow: hidden;padding: 0;position: absolute;width: 1px;}#sk-container-id-1 div.sk-estimator {font-family: monospace;background-color: #f0f8ff;border: 1px dotted black;border-radius: 0.25em;box-sizing: border-box;margin-bottom: 0.5em;}#sk-container-id-1 div.sk-estimator:hover {background-color: #d4ebff;}#sk-container-id-1 div.sk-parallel-item::after {content: \"\";width: 100%;border-bottom: 1px solid gray;flex-grow: 1;}#sk-container-id-1 div.sk-label:hover label.sk-toggleable__label {background-color: #d4ebff;}#sk-container-id-1 div.sk-serial::before {content: \"\";position: absolute;border-left: 1px solid gray;box-sizing: border-box;top: 0;bottom: 0;left: 50%;z-index: 0;}#sk-container-id-1 div.sk-serial {display: flex;flex-direction: column;align-items: center;background-color: white;padding-right: 0.2em;padding-left: 0.2em;position: relative;}#sk-container-id-1 div.sk-item {position: relative;z-index: 1;}#sk-container-id-1 div.sk-parallel {display: flex;align-items: stretch;justify-content: center;background-color: white;position: relative;}#sk-container-id-1 div.sk-item::before, #sk-container-id-1 div.sk-parallel-item::before {content: \"\";position: absolute;border-left: 1px solid gray;box-sizing: border-box;top: 0;bottom: 0;left: 50%;z-index: -1;}#sk-container-id-1 div.sk-parallel-item {display: flex;flex-direction: column;z-index: 1;position: relative;background-color: white;}#sk-container-id-1 div.sk-parallel-item:first-child::after {align-self: flex-end;width: 50%;}#sk-container-id-1 div.sk-parallel-item:last-child::after {align-self: flex-start;width: 50%;}#sk-container-id-1 div.sk-parallel-item:only-child::after {width: 0;}#sk-container-id-1 div.sk-dashed-wrapped {border: 1px dashed gray;margin: 0 0.4em 0.5em 0.4em;box-sizing: border-box;padding-bottom: 0.4em;background-color: white;}#sk-container-id-1 div.sk-label label {font-family: monospace;font-weight: bold;display: inline-block;line-height: 1.2em;}#sk-container-id-1 div.sk-label-container {text-align: center;}#sk-container-id-1 div.sk-container {/* jupyter's `normalize.less` sets `[hidden] { display: none; }` but bootstrap.min.css set `[hidden] { display: none !important; }` so we also need the `!important` here to be able to override the default hidden behavior on the sphinx rendered scikit-learn.org. See: https://github.com/scikit-learn/scikit-learn/issues/21755 */display: inline-block !important;position: relative;}#sk-container-id-1 div.sk-text-repr-fallback {display: none;}</style><div id=\"sk-container-id-1\" class=\"sk-top-container\"><div class=\"sk-text-repr-fallback\"><pre>LinearRegression()</pre><b>In a Jupyter environment, please rerun this cell to show the HTML representation or trust the notebook. <br />On GitHub, the HTML representation is unable to render, please try loading this page with nbviewer.org.</b></div><div class=\"sk-container\" hidden><div class=\"sk-item\"><div class=\"sk-estimator sk-toggleable\"><input class=\"sk-toggleable__control sk-hidden--visually\" id=\"sk-estimator-id-1\" type=\"checkbox\" checked><label for=\"sk-estimator-id-1\" class=\"sk-toggleable__label sk-toggleable__label-arrow\">LinearRegression</label><div class=\"sk-toggleable__content\"><pre>LinearRegression()</pre></div></div></div></div></div>"
      ],
      "text/plain": [
       "LinearRegression()"
      ]
     },
     "execution_count": 44,
     "metadata": {},
     "output_type": "execute_result"
    }
   ],
   "source": [
    "from sklearn.linear_model import LinearRegression\n",
    "\n",
    "LR = LinearRegression()\n",
    "LR.fit(x_train, y_train)"
   ]
  },
  {
   "cell_type": "code",
   "execution_count": 45,
   "id": "66528036",
   "metadata": {},
   "outputs": [],
   "source": [
    "y_pred = LR.predict(x_test)"
   ]
  },
  {
   "cell_type": "code",
   "execution_count": 46,
   "id": "1e69e949",
   "metadata": {},
   "outputs": [
    {
     "name": "stdout",
     "output_type": "stream",
     "text": [
      "0.6100300911513841\n"
     ]
    }
   ],
   "source": [
    "from sklearn.metrics import r2_score\n",
    "r2 = r2_score(y_test, y_pred)\n",
    "print(r2)"
   ]
  },
  {
   "cell_type": "code",
   "execution_count": 47,
   "id": "f5e6e859",
   "metadata": {},
   "outputs": [
    {
     "data": {
      "text/plain": [
       "Text(0.5, 0, 'Actual Price')"
      ]
     },
     "execution_count": 47,
     "metadata": {},
     "output_type": "execute_result"
    },
    {
     "data": {
      "image/png": "[encoded data removed]",
      "text/plain": [
       "<Figure size 640x480 with 1 Axes>"
      ]
     },
     "metadata": {},
     "output_type": "display_data"
    }
   ],
   "source": [
    "import matplotlib.pyplot as plt\n",
    "\n",
    "p = LR.predict(x_test)\n",
    "plt.scatter(y_test[:1000], p[:1000], s = 10)\n",
    "plt.ylabel(\"Predicted Price\")\n",
    "plt.xlabel(\"Actual Price\")"
   ]
  },
  {
   "cell_type": "code",
   "execution_count": null,
   "id": "95f9dc64",
   "metadata": {},
   "outputs": [],
   "source": []
  }
 ],
 "metadata": {
  "kernelspec": {
   "display_name": "Python 3 (ipykernel)",
   "language": "python",
   "name": "python3"
  },
  "language_info": {
   "codemirror_mode": {
    "name": "ipython",
    "version": 3
   },
   "file_extension": ".py",
   "mimetype": "text/x-python",
   "name": "python",
   "nbconvert_exporter": "python",
   "pygments_lexer": "ipython3",
   "version": "3.11.3"
  }
 },
 "nbformat": 4,
 "nbformat_minor": 5
}
